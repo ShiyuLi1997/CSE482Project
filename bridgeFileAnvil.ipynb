{
 "cells": [
  {
   "cell_type": "code",
   "execution_count": null,
   "id": "620a5475",
   "metadata": {},
   "outputs": [
    {
     "name": "stdout",
     "output_type": "stream",
     "text": [
      "Connecting to wss://anvil.works/uplink\n",
      "Anvil websocket open\n",
      "Connected to \"Default environment\" as SERVER\n",
      "Welcome lishiyu6@msu.edu\n",
      "Welcome lishiyu6@msu.edu\n",
      "Welcome lishiyu6@msu.edu\n",
      "Welcome lishiyu6@msu.edu\n",
      "Welcome lishiyu6@msu.edu\n",
      "Welcome 123@test.com\n",
      "Welcome 123@test.com\n",
      "Welcome 123@test.com\n"
     ]
    }
   ],
   "source": [
    "import anvil.server\n",
    "\n",
    "anvil.server.connect(\"SSEG5KGSYNQ2U4KVWJQWQXD4-6YWCZHJ2DGJJD5CR\")\n",
    "\n",
    "\n",
    "@anvil.server.callable\n",
    "def test_func(user_row):\n",
    "    if user_row == \"None\": return \"USER HAS NOT LOGGED IN !!!\"\n",
    "    else:\n",
    "        user_email = user_row[\"email\"]\n",
    "        greetings = \"Welcome {}\".format(user_email)\n",
    "        print(greetings)\n",
    "        return greetings\n",
    "\n",
    "anvil.server.wait_forever()"
   ]
  },
  {
   "cell_type": "code",
   "execution_count": null,
   "id": "e968dca6",
   "metadata": {},
   "outputs": [],
   "source": []
  },
  {
   "cell_type": "code",
   "execution_count": null,
   "id": "6a890dbb",
   "metadata": {},
   "outputs": [],
   "source": []
  }
 ],
 "metadata": {
  "kernelspec": {
   "display_name": "Python 3",
   "language": "python",
   "name": "python3"
  },
  "language_info": {
   "codemirror_mode": {
    "name": "ipython",
    "version": 3
   },
   "file_extension": ".py",
   "mimetype": "text/x-python",
   "name": "python",
   "nbconvert_exporter": "python",
   "pygments_lexer": "ipython3",
   "version": "3.8.8"
  }
 },
 "nbformat": 4,
 "nbformat_minor": 5
}
